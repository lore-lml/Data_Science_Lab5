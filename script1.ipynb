{
 "cells": [
  {
   "cell_type": "code",
   "execution_count": 25,
   "outputs": [
    {
     "name": "stderr",
     "text": [
      "[nltk_data] Downloading package punkt to\n[nltk_data]     C:\\Users\\lorry\\AppData\\Roaming\\nltk_data...\n",
      "[nltk_data]   Unzipping tokenizers\\punkt.zip.\n"
     ],
     "output_type": "stream"
    },
    {
     "data": {
      "text/plain": "True"
     },
     "metadata": {},
     "output_type": "execute_result",
     "execution_count": 25
    }
   ],
   "source": [
    "import nltk\n",
    "nltk.download(\"punkt\")"
   ],
   "metadata": {
    "collapsed": false,
    "pycharm": {
     "name": "#%%\n",
     "is_executing": false
    }
   }
  },
  {
   "cell_type": "markdown",
   "metadata": {
    "collapsed": true,
    "pycharm": {
     "name": "#%% md\n",
     "is_executing": false
    }
   },
   "source": [
    "Implementazione TFIDF"
   ]
  },
  {
   "cell_type": "code",
   "execution_count": 19,
   "outputs": [],
   "source": [
    "import os\n",
    "from sklearn.feature_extraction.text import TfidfVectorizer\n",
    "from nltk.tokenize import word_tokenize\n",
    "from nltk.stem.wordnet import WordNetLemmatizer\n",
    "from nltk.corpus import stopwords as sw\n",
    "import string\n",
    "import re\n",
    "\n",
    "class LemmaTokenizer(object):\n",
    "    def __init__(self):\n",
    "        self.lemmatizer = WordNetLemmatizer()\n",
    "    \n",
    "    def __call__(self, document):\n",
    "        lemmas = []\n",
    "        regex = re.compile(\"[0-9]+\")\n",
    "        \n",
    "        for t in word_tokenize(document):\n",
    "            t = t.strip()\n",
    "            lemma = self.lemmatizer.lemmatize(t)\n",
    "            if lemma not in string.punctuation and 3 < len(lemma) < 16 and not regex.match(lemma):\n",
    "                lemmas.append(lemma)\n",
    "        return lemmas"
   ],
   "metadata": {
    "collapsed": false,
    "pycharm": {
     "name": "#%%\n",
     "is_executing": false
    }
   }
  },
  {
   "cell_type": "markdown",
   "source": [
    "Trovo tutte le directory dei documents"
   ],
   "metadata": {
    "collapsed": false,
    "pycharm": {
     "name": "#%% md\n"
    }
   }
  },
  {
   "cell_type": "code",
   "execution_count": 23,
   "outputs": [
    {
     "data": {
      "text/plain": "['data_sets/T-newsgroups/0',\n 'data_sets/T-newsgroups/1',\n 'data_sets/T-newsgroups/2',\n 'data_sets/T-newsgroups/3',\n 'data_sets/T-newsgroups/4',\n 'data_sets/T-newsgroups/5',\n 'data_sets/T-newsgroups/6',\n 'data_sets/T-newsgroups/7',\n 'data_sets/T-newsgroups/8',\n 'data_sets/T-newsgroups/9',\n 'data_sets/T-newsgroups/10',\n 'data_sets/T-newsgroups/11',\n 'data_sets/T-newsgroups/12',\n 'data_sets/T-newsgroups/13',\n 'data_sets/T-newsgroups/14',\n 'data_sets/T-newsgroups/15',\n 'data_sets/T-newsgroups/16',\n 'data_sets/T-newsgroups/17',\n 'data_sets/T-newsgroups/18',\n 'data_sets/T-newsgroups/19',\n 'data_sets/T-newsgroups/20',\n 'data_sets/T-newsgroups/21',\n 'data_sets/T-newsgroups/22',\n 'data_sets/T-newsgroups/23',\n 'data_sets/T-newsgroups/24',\n 'data_sets/T-newsgroups/25',\n 'data_sets/T-newsgroups/26',\n 'data_sets/T-newsgroups/27',\n 'data_sets/T-newsgroups/28',\n 'data_sets/T-newsgroups/29',\n 'data_sets/T-newsgroups/30',\n 'data_sets/T-newsgroups/31',\n 'data_sets/T-newsgroups/32',\n 'data_sets/T-newsgroups/33',\n 'data_sets/T-newsgroups/34',\n 'data_sets/T-newsgroups/35',\n 'data_sets/T-newsgroups/36',\n 'data_sets/T-newsgroups/37',\n 'data_sets/T-newsgroups/38',\n 'data_sets/T-newsgroups/39',\n 'data_sets/T-newsgroups/40',\n 'data_sets/T-newsgroups/41',\n 'data_sets/T-newsgroups/42',\n 'data_sets/T-newsgroups/43',\n 'data_sets/T-newsgroups/44',\n 'data_sets/T-newsgroups/45',\n 'data_sets/T-newsgroups/46',\n 'data_sets/T-newsgroups/47',\n 'data_sets/T-newsgroups/48',\n 'data_sets/T-newsgroups/49',\n 'data_sets/T-newsgroups/50',\n 'data_sets/T-newsgroups/51',\n 'data_sets/T-newsgroups/52',\n 'data_sets/T-newsgroups/53',\n 'data_sets/T-newsgroups/54',\n 'data_sets/T-newsgroups/55',\n 'data_sets/T-newsgroups/56',\n 'data_sets/T-newsgroups/57',\n 'data_sets/T-newsgroups/58',\n 'data_sets/T-newsgroups/59',\n 'data_sets/T-newsgroups/60',\n 'data_sets/T-newsgroups/61',\n 'data_sets/T-newsgroups/62',\n 'data_sets/T-newsgroups/63',\n 'data_sets/T-newsgroups/64',\n 'data_sets/T-newsgroups/65',\n 'data_sets/T-newsgroups/66',\n 'data_sets/T-newsgroups/67',\n 'data_sets/T-newsgroups/68',\n 'data_sets/T-newsgroups/69',\n 'data_sets/T-newsgroups/70',\n 'data_sets/T-newsgroups/71',\n 'data_sets/T-newsgroups/72',\n 'data_sets/T-newsgroups/73',\n 'data_sets/T-newsgroups/74',\n 'data_sets/T-newsgroups/75',\n 'data_sets/T-newsgroups/76',\n 'data_sets/T-newsgroups/77',\n 'data_sets/T-newsgroups/78',\n 'data_sets/T-newsgroups/79',\n 'data_sets/T-newsgroups/80',\n 'data_sets/T-newsgroups/81',\n 'data_sets/T-newsgroups/82',\n 'data_sets/T-newsgroups/83',\n 'data_sets/T-newsgroups/84',\n 'data_sets/T-newsgroups/85',\n 'data_sets/T-newsgroups/86',\n 'data_sets/T-newsgroups/87',\n 'data_sets/T-newsgroups/88',\n 'data_sets/T-newsgroups/89',\n 'data_sets/T-newsgroups/90',\n 'data_sets/T-newsgroups/91',\n 'data_sets/T-newsgroups/92',\n 'data_sets/T-newsgroups/93',\n 'data_sets/T-newsgroups/94',\n 'data_sets/T-newsgroups/95',\n 'data_sets/T-newsgroups/96',\n 'data_sets/T-newsgroups/97',\n 'data_sets/T-newsgroups/98',\n 'data_sets/T-newsgroups/99',\n 'data_sets/T-newsgroups/100',\n 'data_sets/T-newsgroups/101',\n 'data_sets/T-newsgroups/102',\n 'data_sets/T-newsgroups/103',\n 'data_sets/T-newsgroups/104',\n 'data_sets/T-newsgroups/105',\n 'data_sets/T-newsgroups/106',\n 'data_sets/T-newsgroups/107',\n 'data_sets/T-newsgroups/108',\n 'data_sets/T-newsgroups/109',\n 'data_sets/T-newsgroups/110',\n 'data_sets/T-newsgroups/111',\n 'data_sets/T-newsgroups/112',\n 'data_sets/T-newsgroups/113',\n 'data_sets/T-newsgroups/114',\n 'data_sets/T-newsgroups/115',\n 'data_sets/T-newsgroups/116',\n 'data_sets/T-newsgroups/117',\n 'data_sets/T-newsgroups/118',\n 'data_sets/T-newsgroups/119',\n 'data_sets/T-newsgroups/120',\n 'data_sets/T-newsgroups/121',\n 'data_sets/T-newsgroups/122',\n 'data_sets/T-newsgroups/123',\n 'data_sets/T-newsgroups/124',\n 'data_sets/T-newsgroups/125',\n 'data_sets/T-newsgroups/126',\n 'data_sets/T-newsgroups/127',\n 'data_sets/T-newsgroups/128',\n 'data_sets/T-newsgroups/129',\n 'data_sets/T-newsgroups/130',\n 'data_sets/T-newsgroups/131',\n 'data_sets/T-newsgroups/132',\n 'data_sets/T-newsgroups/133',\n 'data_sets/T-newsgroups/134',\n 'data_sets/T-newsgroups/135',\n 'data_sets/T-newsgroups/136',\n 'data_sets/T-newsgroups/137',\n 'data_sets/T-newsgroups/138',\n 'data_sets/T-newsgroups/139',\n 'data_sets/T-newsgroups/140',\n 'data_sets/T-newsgroups/141',\n 'data_sets/T-newsgroups/142',\n 'data_sets/T-newsgroups/143',\n 'data_sets/T-newsgroups/144',\n 'data_sets/T-newsgroups/145',\n 'data_sets/T-newsgroups/146',\n 'data_sets/T-newsgroups/147',\n 'data_sets/T-newsgroups/148',\n 'data_sets/T-newsgroups/149',\n 'data_sets/T-newsgroups/150',\n 'data_sets/T-newsgroups/151',\n 'data_sets/T-newsgroups/152',\n 'data_sets/T-newsgroups/153',\n 'data_sets/T-newsgroups/154',\n 'data_sets/T-newsgroups/155',\n 'data_sets/T-newsgroups/156',\n 'data_sets/T-newsgroups/157',\n 'data_sets/T-newsgroups/158',\n 'data_sets/T-newsgroups/159',\n 'data_sets/T-newsgroups/160',\n 'data_sets/T-newsgroups/161',\n 'data_sets/T-newsgroups/162',\n 'data_sets/T-newsgroups/163',\n 'data_sets/T-newsgroups/164',\n 'data_sets/T-newsgroups/165',\n 'data_sets/T-newsgroups/166',\n 'data_sets/T-newsgroups/167',\n 'data_sets/T-newsgroups/168',\n 'data_sets/T-newsgroups/169',\n 'data_sets/T-newsgroups/170',\n 'data_sets/T-newsgroups/171',\n 'data_sets/T-newsgroups/172',\n 'data_sets/T-newsgroups/173',\n 'data_sets/T-newsgroups/174',\n 'data_sets/T-newsgroups/175',\n 'data_sets/T-newsgroups/176',\n 'data_sets/T-newsgroups/177',\n 'data_sets/T-newsgroups/178',\n 'data_sets/T-newsgroups/179',\n 'data_sets/T-newsgroups/180',\n 'data_sets/T-newsgroups/181',\n 'data_sets/T-newsgroups/182',\n 'data_sets/T-newsgroups/183',\n 'data_sets/T-newsgroups/184',\n 'data_sets/T-newsgroups/185',\n 'data_sets/T-newsgroups/186',\n 'data_sets/T-newsgroups/187',\n 'data_sets/T-newsgroups/188',\n 'data_sets/T-newsgroups/189',\n 'data_sets/T-newsgroups/190',\n 'data_sets/T-newsgroups/191',\n 'data_sets/T-newsgroups/192',\n 'data_sets/T-newsgroups/193',\n 'data_sets/T-newsgroups/194',\n 'data_sets/T-newsgroups/195',\n 'data_sets/T-newsgroups/196',\n 'data_sets/T-newsgroups/197',\n 'data_sets/T-newsgroups/198',\n 'data_sets/T-newsgroups/199',\n 'data_sets/T-newsgroups/200',\n 'data_sets/T-newsgroups/201',\n 'data_sets/T-newsgroups/202',\n 'data_sets/T-newsgroups/203',\n 'data_sets/T-newsgroups/204',\n 'data_sets/T-newsgroups/205',\n 'data_sets/T-newsgroups/206',\n 'data_sets/T-newsgroups/207',\n 'data_sets/T-newsgroups/208',\n 'data_sets/T-newsgroups/209',\n 'data_sets/T-newsgroups/210',\n 'data_sets/T-newsgroups/211',\n 'data_sets/T-newsgroups/212',\n 'data_sets/T-newsgroups/213',\n 'data_sets/T-newsgroups/214',\n 'data_sets/T-newsgroups/215',\n 'data_sets/T-newsgroups/216',\n 'data_sets/T-newsgroups/217',\n 'data_sets/T-newsgroups/218',\n 'data_sets/T-newsgroups/219',\n 'data_sets/T-newsgroups/220',\n 'data_sets/T-newsgroups/221',\n 'data_sets/T-newsgroups/222',\n 'data_sets/T-newsgroups/223',\n 'data_sets/T-newsgroups/224',\n 'data_sets/T-newsgroups/225',\n 'data_sets/T-newsgroups/226',\n 'data_sets/T-newsgroups/227',\n 'data_sets/T-newsgroups/228',\n 'data_sets/T-newsgroups/229',\n 'data_sets/T-newsgroups/230',\n 'data_sets/T-newsgroups/231',\n 'data_sets/T-newsgroups/232',\n 'data_sets/T-newsgroups/233',\n 'data_sets/T-newsgroups/234',\n 'data_sets/T-newsgroups/235',\n 'data_sets/T-newsgroups/236',\n 'data_sets/T-newsgroups/237',\n 'data_sets/T-newsgroups/238',\n 'data_sets/T-newsgroups/239',\n 'data_sets/T-newsgroups/240',\n 'data_sets/T-newsgroups/241',\n 'data_sets/T-newsgroups/242',\n 'data_sets/T-newsgroups/243',\n 'data_sets/T-newsgroups/244',\n 'data_sets/T-newsgroups/245',\n 'data_sets/T-newsgroups/246',\n 'data_sets/T-newsgroups/247',\n 'data_sets/T-newsgroups/248',\n 'data_sets/T-newsgroups/249',\n 'data_sets/T-newsgroups/250',\n 'data_sets/T-newsgroups/251',\n 'data_sets/T-newsgroups/252',\n 'data_sets/T-newsgroups/253',\n 'data_sets/T-newsgroups/254',\n 'data_sets/T-newsgroups/255',\n 'data_sets/T-newsgroups/256',\n 'data_sets/T-newsgroups/257',\n 'data_sets/T-newsgroups/258',\n 'data_sets/T-newsgroups/259',\n 'data_sets/T-newsgroups/260',\n 'data_sets/T-newsgroups/261',\n 'data_sets/T-newsgroups/262',\n 'data_sets/T-newsgroups/263',\n 'data_sets/T-newsgroups/264',\n 'data_sets/T-newsgroups/265',\n 'data_sets/T-newsgroups/266',\n 'data_sets/T-newsgroups/267',\n 'data_sets/T-newsgroups/268',\n 'data_sets/T-newsgroups/269',\n 'data_sets/T-newsgroups/270',\n 'data_sets/T-newsgroups/271',\n 'data_sets/T-newsgroups/272',\n 'data_sets/T-newsgroups/273',\n 'data_sets/T-newsgroups/274',\n 'data_sets/T-newsgroups/275',\n 'data_sets/T-newsgroups/276',\n 'data_sets/T-newsgroups/277',\n 'data_sets/T-newsgroups/278',\n 'data_sets/T-newsgroups/279',\n 'data_sets/T-newsgroups/280',\n 'data_sets/T-newsgroups/281',\n 'data_sets/T-newsgroups/282',\n 'data_sets/T-newsgroups/283',\n 'data_sets/T-newsgroups/284',\n 'data_sets/T-newsgroups/285',\n 'data_sets/T-newsgroups/286',\n 'data_sets/T-newsgroups/287',\n 'data_sets/T-newsgroups/288',\n 'data_sets/T-newsgroups/289',\n 'data_sets/T-newsgroups/290',\n 'data_sets/T-newsgroups/291',\n 'data_sets/T-newsgroups/292',\n 'data_sets/T-newsgroups/293',\n 'data_sets/T-newsgroups/294',\n 'data_sets/T-newsgroups/295',\n 'data_sets/T-newsgroups/296',\n 'data_sets/T-newsgroups/297',\n 'data_sets/T-newsgroups/298',\n 'data_sets/T-newsgroups/299',\n 'data_sets/T-newsgroups/300',\n 'data_sets/T-newsgroups/301',\n 'data_sets/T-newsgroups/302',\n 'data_sets/T-newsgroups/303',\n 'data_sets/T-newsgroups/304',\n 'data_sets/T-newsgroups/305',\n 'data_sets/T-newsgroups/306',\n 'data_sets/T-newsgroups/307',\n 'data_sets/T-newsgroups/308',\n 'data_sets/T-newsgroups/309',\n 'data_sets/T-newsgroups/310',\n 'data_sets/T-newsgroups/311',\n 'data_sets/T-newsgroups/312',\n 'data_sets/T-newsgroups/313',\n 'data_sets/T-newsgroups/314',\n 'data_sets/T-newsgroups/315',\n 'data_sets/T-newsgroups/316',\n 'data_sets/T-newsgroups/317',\n 'data_sets/T-newsgroups/318',\n 'data_sets/T-newsgroups/319',\n 'data_sets/T-newsgroups/320',\n 'data_sets/T-newsgroups/321',\n 'data_sets/T-newsgroups/322',\n 'data_sets/T-newsgroups/323',\n 'data_sets/T-newsgroups/324',\n 'data_sets/T-newsgroups/325',\n 'data_sets/T-newsgroups/326',\n 'data_sets/T-newsgroups/327',\n 'data_sets/T-newsgroups/328',\n 'data_sets/T-newsgroups/329',\n 'data_sets/T-newsgroups/330',\n 'data_sets/T-newsgroups/331',\n 'data_sets/T-newsgroups/332',\n 'data_sets/T-newsgroups/333',\n 'data_sets/T-newsgroups/334',\n 'data_sets/T-newsgroups/335',\n 'data_sets/T-newsgroups/336',\n 'data_sets/T-newsgroups/337',\n 'data_sets/T-newsgroups/338',\n 'data_sets/T-newsgroups/339',\n 'data_sets/T-newsgroups/340',\n 'data_sets/T-newsgroups/341',\n 'data_sets/T-newsgroups/342',\n 'data_sets/T-newsgroups/343',\n 'data_sets/T-newsgroups/344',\n 'data_sets/T-newsgroups/345',\n 'data_sets/T-newsgroups/346',\n 'data_sets/T-newsgroups/347',\n 'data_sets/T-newsgroups/348',\n 'data_sets/T-newsgroups/349',\n 'data_sets/T-newsgroups/350',\n 'data_sets/T-newsgroups/351',\n 'data_sets/T-newsgroups/352',\n 'data_sets/T-newsgroups/353',\n 'data_sets/T-newsgroups/354',\n 'data_sets/T-newsgroups/355',\n 'data_sets/T-newsgroups/356',\n 'data_sets/T-newsgroups/357',\n 'data_sets/T-newsgroups/358',\n 'data_sets/T-newsgroups/359',\n 'data_sets/T-newsgroups/360',\n 'data_sets/T-newsgroups/361',\n 'data_sets/T-newsgroups/362',\n 'data_sets/T-newsgroups/363',\n 'data_sets/T-newsgroups/364',\n 'data_sets/T-newsgroups/365',\n 'data_sets/T-newsgroups/366',\n 'data_sets/T-newsgroups/367',\n 'data_sets/T-newsgroups/368',\n 'data_sets/T-newsgroups/369',\n 'data_sets/T-newsgroups/370',\n 'data_sets/T-newsgroups/371',\n 'data_sets/T-newsgroups/372',\n 'data_sets/T-newsgroups/373',\n 'data_sets/T-newsgroups/374',\n 'data_sets/T-newsgroups/375',\n 'data_sets/T-newsgroups/376',\n 'data_sets/T-newsgroups/377',\n 'data_sets/T-newsgroups/378',\n 'data_sets/T-newsgroups/379',\n 'data_sets/T-newsgroups/380',\n 'data_sets/T-newsgroups/381',\n 'data_sets/T-newsgroups/382',\n 'data_sets/T-newsgroups/383',\n 'data_sets/T-newsgroups/384',\n 'data_sets/T-newsgroups/385',\n 'data_sets/T-newsgroups/386',\n 'data_sets/T-newsgroups/387',\n 'data_sets/T-newsgroups/388',\n 'data_sets/T-newsgroups/389',\n 'data_sets/T-newsgroups/390',\n 'data_sets/T-newsgroups/391',\n 'data_sets/T-newsgroups/392',\n 'data_sets/T-newsgroups/393',\n 'data_sets/T-newsgroups/394',\n 'data_sets/T-newsgroups/395',\n 'data_sets/T-newsgroups/396',\n 'data_sets/T-newsgroups/397',\n 'data_sets/T-newsgroups/398',\n 'data_sets/T-newsgroups/399',\n 'data_sets/T-newsgroups/400',\n 'data_sets/T-newsgroups/401',\n 'data_sets/T-newsgroups/402',\n 'data_sets/T-newsgroups/403',\n 'data_sets/T-newsgroups/404',\n 'data_sets/T-newsgroups/405',\n 'data_sets/T-newsgroups/406',\n 'data_sets/T-newsgroups/407',\n 'data_sets/T-newsgroups/408',\n 'data_sets/T-newsgroups/409',\n 'data_sets/T-newsgroups/410',\n 'data_sets/T-newsgroups/411',\n 'data_sets/T-newsgroups/412',\n 'data_sets/T-newsgroups/413',\n 'data_sets/T-newsgroups/414',\n 'data_sets/T-newsgroups/415',\n 'data_sets/T-newsgroups/416',\n 'data_sets/T-newsgroups/417',\n 'data_sets/T-newsgroups/418',\n 'data_sets/T-newsgroups/419',\n 'data_sets/T-newsgroups/420',\n 'data_sets/T-newsgroups/421',\n 'data_sets/T-newsgroups/422',\n 'data_sets/T-newsgroups/423',\n 'data_sets/T-newsgroups/424',\n 'data_sets/T-newsgroups/425',\n 'data_sets/T-newsgroups/426',\n 'data_sets/T-newsgroups/427',\n 'data_sets/T-newsgroups/428',\n 'data_sets/T-newsgroups/429',\n 'data_sets/T-newsgroups/430',\n 'data_sets/T-newsgroups/431',\n 'data_sets/T-newsgroups/432',\n 'data_sets/T-newsgroups/433',\n 'data_sets/T-newsgroups/434',\n 'data_sets/T-newsgroups/435',\n 'data_sets/T-newsgroups/436',\n 'data_sets/T-newsgroups/437',\n 'data_sets/T-newsgroups/438',\n 'data_sets/T-newsgroups/439',\n 'data_sets/T-newsgroups/440',\n 'data_sets/T-newsgroups/441',\n 'data_sets/T-newsgroups/442',\n 'data_sets/T-newsgroups/443',\n 'data_sets/T-newsgroups/444',\n 'data_sets/T-newsgroups/445',\n 'data_sets/T-newsgroups/446',\n 'data_sets/T-newsgroups/447',\n 'data_sets/T-newsgroups/448',\n 'data_sets/T-newsgroups/449',\n 'data_sets/T-newsgroups/450',\n 'data_sets/T-newsgroups/451',\n 'data_sets/T-newsgroups/452',\n 'data_sets/T-newsgroups/453',\n 'data_sets/T-newsgroups/454',\n 'data_sets/T-newsgroups/455',\n 'data_sets/T-newsgroups/456',\n 'data_sets/T-newsgroups/457',\n 'data_sets/T-newsgroups/458',\n 'data_sets/T-newsgroups/459',\n 'data_sets/T-newsgroups/460',\n 'data_sets/T-newsgroups/461',\n 'data_sets/T-newsgroups/462',\n 'data_sets/T-newsgroups/463',\n 'data_sets/T-newsgroups/464',\n 'data_sets/T-newsgroups/465',\n 'data_sets/T-newsgroups/466',\n 'data_sets/T-newsgroups/467',\n 'data_sets/T-newsgroups/468',\n 'data_sets/T-newsgroups/469',\n 'data_sets/T-newsgroups/470',\n 'data_sets/T-newsgroups/471',\n 'data_sets/T-newsgroups/472',\n 'data_sets/T-newsgroups/473',\n 'data_sets/T-newsgroups/474',\n 'data_sets/T-newsgroups/475',\n 'data_sets/T-newsgroups/476',\n 'data_sets/T-newsgroups/477',\n 'data_sets/T-newsgroups/478',\n 'data_sets/T-newsgroups/479',\n 'data_sets/T-newsgroups/480',\n 'data_sets/T-newsgroups/481',\n 'data_sets/T-newsgroups/482',\n 'data_sets/T-newsgroups/483',\n 'data_sets/T-newsgroups/484',\n 'data_sets/T-newsgroups/485',\n 'data_sets/T-newsgroups/486',\n 'data_sets/T-newsgroups/487',\n 'data_sets/T-newsgroups/488',\n 'data_sets/T-newsgroups/489',\n 'data_sets/T-newsgroups/490',\n 'data_sets/T-newsgroups/491',\n 'data_sets/T-newsgroups/492',\n 'data_sets/T-newsgroups/493',\n 'data_sets/T-newsgroups/494',\n 'data_sets/T-newsgroups/495',\n 'data_sets/T-newsgroups/496',\n 'data_sets/T-newsgroups/497',\n 'data_sets/T-newsgroups/498',\n 'data_sets/T-newsgroups/499',\n 'data_sets/T-newsgroups/500',\n 'data_sets/T-newsgroups/501',\n 'data_sets/T-newsgroups/502',\n 'data_sets/T-newsgroups/503',\n 'data_sets/T-newsgroups/504',\n 'data_sets/T-newsgroups/505',\n 'data_sets/T-newsgroups/506',\n 'data_sets/T-newsgroups/507',\n 'data_sets/T-newsgroups/508',\n 'data_sets/T-newsgroups/509',\n 'data_sets/T-newsgroups/510',\n 'data_sets/T-newsgroups/511',\n 'data_sets/T-newsgroups/512',\n 'data_sets/T-newsgroups/513',\n 'data_sets/T-newsgroups/514',\n 'data_sets/T-newsgroups/515',\n 'data_sets/T-newsgroups/516',\n 'data_sets/T-newsgroups/517',\n 'data_sets/T-newsgroups/518',\n 'data_sets/T-newsgroups/519',\n 'data_sets/T-newsgroups/520',\n 'data_sets/T-newsgroups/521',\n 'data_sets/T-newsgroups/522',\n 'data_sets/T-newsgroups/523',\n 'data_sets/T-newsgroups/524',\n 'data_sets/T-newsgroups/525',\n 'data_sets/T-newsgroups/526',\n 'data_sets/T-newsgroups/527',\n 'data_sets/T-newsgroups/528',\n 'data_sets/T-newsgroups/529',\n 'data_sets/T-newsgroups/530',\n 'data_sets/T-newsgroups/531',\n 'data_sets/T-newsgroups/532',\n 'data_sets/T-newsgroups/533',\n 'data_sets/T-newsgroups/534',\n 'data_sets/T-newsgroups/535',\n 'data_sets/T-newsgroups/536',\n 'data_sets/T-newsgroups/537',\n 'data_sets/T-newsgroups/538',\n 'data_sets/T-newsgroups/539',\n 'data_sets/T-newsgroups/540',\n 'data_sets/T-newsgroups/541',\n 'data_sets/T-newsgroups/542',\n 'data_sets/T-newsgroups/543',\n 'data_sets/T-newsgroups/544',\n 'data_sets/T-newsgroups/545',\n 'data_sets/T-newsgroups/546',\n 'data_sets/T-newsgroups/547',\n 'data_sets/T-newsgroups/548',\n 'data_sets/T-newsgroups/549',\n 'data_sets/T-newsgroups/550',\n 'data_sets/T-newsgroups/551',\n 'data_sets/T-newsgroups/552',\n 'data_sets/T-newsgroups/553',\n 'data_sets/T-newsgroups/554',\n 'data_sets/T-newsgroups/555',\n 'data_sets/T-newsgroups/556',\n 'data_sets/T-newsgroups/557',\n 'data_sets/T-newsgroups/558',\n 'data_sets/T-newsgroups/559',\n 'data_sets/T-newsgroups/560',\n 'data_sets/T-newsgroups/561',\n 'data_sets/T-newsgroups/562',\n 'data_sets/T-newsgroups/563',\n 'data_sets/T-newsgroups/564',\n 'data_sets/T-newsgroups/565',\n 'data_sets/T-newsgroups/566',\n 'data_sets/T-newsgroups/567',\n 'data_sets/T-newsgroups/568',\n 'data_sets/T-newsgroups/569',\n 'data_sets/T-newsgroups/570',\n 'data_sets/T-newsgroups/571',\n 'data_sets/T-newsgroups/572',\n 'data_sets/T-newsgroups/573',\n 'data_sets/T-newsgroups/574',\n 'data_sets/T-newsgroups/575',\n 'data_sets/T-newsgroups/576',\n 'data_sets/T-newsgroups/577',\n 'data_sets/T-newsgroups/578',\n 'data_sets/T-newsgroups/579',\n 'data_sets/T-newsgroups/580',\n 'data_sets/T-newsgroups/581',\n 'data_sets/T-newsgroups/582',\n 'data_sets/T-newsgroups/583',\n 'data_sets/T-newsgroups/584',\n 'data_sets/T-newsgroups/585',\n 'data_sets/T-newsgroups/586',\n 'data_sets/T-newsgroups/587',\n 'data_sets/T-newsgroups/588',\n 'data_sets/T-newsgroups/589',\n 'data_sets/T-newsgroups/590',\n 'data_sets/T-newsgroups/591',\n 'data_sets/T-newsgroups/592',\n 'data_sets/T-newsgroups/593',\n 'data_sets/T-newsgroups/594',\n 'data_sets/T-newsgroups/595',\n 'data_sets/T-newsgroups/596',\n 'data_sets/T-newsgroups/597',\n 'data_sets/T-newsgroups/598',\n 'data_sets/T-newsgroups/599',\n 'data_sets/T-newsgroups/600',\n 'data_sets/T-newsgroups/601',\n 'data_sets/T-newsgroups/602',\n 'data_sets/T-newsgroups/603',\n 'data_sets/T-newsgroups/604',\n 'data_sets/T-newsgroups/605',\n 'data_sets/T-newsgroups/606',\n 'data_sets/T-newsgroups/607',\n 'data_sets/T-newsgroups/608',\n 'data_sets/T-newsgroups/609',\n 'data_sets/T-newsgroups/610',\n 'data_sets/T-newsgroups/611',\n 'data_sets/T-newsgroups/612',\n 'data_sets/T-newsgroups/613',\n 'data_sets/T-newsgroups/614',\n 'data_sets/T-newsgroups/615',\n 'data_sets/T-newsgroups/616',\n 'data_sets/T-newsgroups/617',\n 'data_sets/T-newsgroups/618',\n 'data_sets/T-newsgroups/619',\n 'data_sets/T-newsgroups/620',\n 'data_sets/T-newsgroups/621',\n 'data_sets/T-newsgroups/622',\n 'data_sets/T-newsgroups/623',\n 'data_sets/T-newsgroups/624',\n 'data_sets/T-newsgroups/625',\n 'data_sets/T-newsgroups/626',\n 'data_sets/T-newsgroups/627',\n 'data_sets/T-newsgroups/628',\n 'data_sets/T-newsgroups/629',\n 'data_sets/T-newsgroups/630',\n 'data_sets/T-newsgroups/631',\n 'data_sets/T-newsgroups/632',\n 'data_sets/T-newsgroups/633',\n 'data_sets/T-newsgroups/634',\n 'data_sets/T-newsgroups/635',\n 'data_sets/T-newsgroups/636',\n 'data_sets/T-newsgroups/637',\n 'data_sets/T-newsgroups/638',\n 'data_sets/T-newsgroups/639',\n 'data_sets/T-newsgroups/640',\n 'data_sets/T-newsgroups/641',\n 'data_sets/T-newsgroups/642',\n 'data_sets/T-newsgroups/643',\n 'data_sets/T-newsgroups/644',\n 'data_sets/T-newsgroups/645',\n 'data_sets/T-newsgroups/646',\n 'data_sets/T-newsgroups/647',\n 'data_sets/T-newsgroups/648',\n 'data_sets/T-newsgroups/649',\n 'data_sets/T-newsgroups/650',\n 'data_sets/T-newsgroups/651',\n 'data_sets/T-newsgroups/652',\n 'data_sets/T-newsgroups/653',\n 'data_sets/T-newsgroups/654',\n 'data_sets/T-newsgroups/655',\n 'data_sets/T-newsgroups/656',\n 'data_sets/T-newsgroups/657',\n 'data_sets/T-newsgroups/658',\n 'data_sets/T-newsgroups/659',\n 'data_sets/T-newsgroups/660',\n 'data_sets/T-newsgroups/661',\n 'data_sets/T-newsgroups/662',\n 'data_sets/T-newsgroups/663',\n 'data_sets/T-newsgroups/664',\n 'data_sets/T-newsgroups/665',\n 'data_sets/T-newsgroups/666',\n 'data_sets/T-newsgroups/667',\n 'data_sets/T-newsgroups/668',\n 'data_sets/T-newsgroups/669',\n 'data_sets/T-newsgroups/670',\n 'data_sets/T-newsgroups/671',\n 'data_sets/T-newsgroups/672',\n 'data_sets/T-newsgroups/673',\n 'data_sets/T-newsgroups/674',\n 'data_sets/T-newsgroups/675',\n 'data_sets/T-newsgroups/676',\n 'data_sets/T-newsgroups/677',\n 'data_sets/T-newsgroups/678',\n 'data_sets/T-newsgroups/679',\n 'data_sets/T-newsgroups/680',\n 'data_sets/T-newsgroups/681',\n 'data_sets/T-newsgroups/682',\n 'data_sets/T-newsgroups/683',\n 'data_sets/T-newsgroups/684',\n 'data_sets/T-newsgroups/685',\n 'data_sets/T-newsgroups/686',\n 'data_sets/T-newsgroups/687',\n 'data_sets/T-newsgroups/688',\n 'data_sets/T-newsgroups/689',\n 'data_sets/T-newsgroups/690',\n 'data_sets/T-newsgroups/691',\n 'data_sets/T-newsgroups/692',\n 'data_sets/T-newsgroups/693',\n 'data_sets/T-newsgroups/694',\n 'data_sets/T-newsgroups/695',\n 'data_sets/T-newsgroups/696',\n 'data_sets/T-newsgroups/697',\n 'data_sets/T-newsgroups/698',\n 'data_sets/T-newsgroups/699',\n 'data_sets/T-newsgroups/700',\n 'data_sets/T-newsgroups/701',\n 'data_sets/T-newsgroups/702',\n 'data_sets/T-newsgroups/703',\n 'data_sets/T-newsgroups/704',\n 'data_sets/T-newsgroups/705',\n 'data_sets/T-newsgroups/706',\n 'data_sets/T-newsgroups/707',\n 'data_sets/T-newsgroups/708',\n 'data_sets/T-newsgroups/709',\n 'data_sets/T-newsgroups/710',\n 'data_sets/T-newsgroups/711',\n 'data_sets/T-newsgroups/712',\n 'data_sets/T-newsgroups/713',\n 'data_sets/T-newsgroups/714',\n 'data_sets/T-newsgroups/715',\n 'data_sets/T-newsgroups/716',\n 'data_sets/T-newsgroups/717',\n 'data_sets/T-newsgroups/718',\n 'data_sets/T-newsgroups/719',\n 'data_sets/T-newsgroups/720',\n 'data_sets/T-newsgroups/721',\n 'data_sets/T-newsgroups/722',\n 'data_sets/T-newsgroups/723',\n 'data_sets/T-newsgroups/724',\n 'data_sets/T-newsgroups/725',\n 'data_sets/T-newsgroups/726',\n 'data_sets/T-newsgroups/727',\n 'data_sets/T-newsgroups/728',\n 'data_sets/T-newsgroups/729',\n 'data_sets/T-newsgroups/730',\n 'data_sets/T-newsgroups/731',\n 'data_sets/T-newsgroups/732',\n 'data_sets/T-newsgroups/733',\n 'data_sets/T-newsgroups/734',\n 'data_sets/T-newsgroups/735',\n 'data_sets/T-newsgroups/736',\n 'data_sets/T-newsgroups/737',\n 'data_sets/T-newsgroups/738',\n 'data_sets/T-newsgroups/739',\n 'data_sets/T-newsgroups/740',\n 'data_sets/T-newsgroups/741',\n 'data_sets/T-newsgroups/742',\n 'data_sets/T-newsgroups/743',\n 'data_sets/T-newsgroups/744',\n 'data_sets/T-newsgroups/745',\n 'data_sets/T-newsgroups/746',\n 'data_sets/T-newsgroups/747',\n 'data_sets/T-newsgroups/748',\n 'data_sets/T-newsgroups/749',\n 'data_sets/T-newsgroups/750',\n 'data_sets/T-newsgroups/751',\n 'data_sets/T-newsgroups/752',\n 'data_sets/T-newsgroups/753',\n 'data_sets/T-newsgroups/754',\n 'data_sets/T-newsgroups/755',\n 'data_sets/T-newsgroups/756',\n 'data_sets/T-newsgroups/757',\n 'data_sets/T-newsgroups/758',\n 'data_sets/T-newsgroups/759',\n 'data_sets/T-newsgroups/760',\n 'data_sets/T-newsgroups/761',\n 'data_sets/T-newsgroups/762',\n 'data_sets/T-newsgroups/763',\n 'data_sets/T-newsgroups/764',\n 'data_sets/T-newsgroups/765',\n 'data_sets/T-newsgroups/766',\n 'data_sets/T-newsgroups/767',\n 'data_sets/T-newsgroups/768',\n 'data_sets/T-newsgroups/769',\n 'data_sets/T-newsgroups/770',\n 'data_sets/T-newsgroups/771',\n 'data_sets/T-newsgroups/772',\n 'data_sets/T-newsgroups/773',\n 'data_sets/T-newsgroups/774',\n 'data_sets/T-newsgroups/775',\n 'data_sets/T-newsgroups/776',\n 'data_sets/T-newsgroups/777',\n 'data_sets/T-newsgroups/778',\n 'data_sets/T-newsgroups/779',\n 'data_sets/T-newsgroups/780',\n 'data_sets/T-newsgroups/781',\n 'data_sets/T-newsgroups/782',\n 'data_sets/T-newsgroups/783',\n 'data_sets/T-newsgroups/784',\n 'data_sets/T-newsgroups/785',\n 'data_sets/T-newsgroups/786',\n 'data_sets/T-newsgroups/787',\n 'data_sets/T-newsgroups/788',\n 'data_sets/T-newsgroups/789',\n 'data_sets/T-newsgroups/790',\n 'data_sets/T-newsgroups/791',\n 'data_sets/T-newsgroups/792',\n 'data_sets/T-newsgroups/793',\n 'data_sets/T-newsgroups/794',\n 'data_sets/T-newsgroups/795',\n 'data_sets/T-newsgroups/796',\n 'data_sets/T-newsgroups/797',\n 'data_sets/T-newsgroups/798',\n 'data_sets/T-newsgroups/799',\n 'data_sets/T-newsgroups/800',\n 'data_sets/T-newsgroups/801',\n 'data_sets/T-newsgroups/802',\n 'data_sets/T-newsgroups/803',\n 'data_sets/T-newsgroups/804',\n 'data_sets/T-newsgroups/805',\n 'data_sets/T-newsgroups/806',\n 'data_sets/T-newsgroups/807',\n 'data_sets/T-newsgroups/808',\n 'data_sets/T-newsgroups/809',\n 'data_sets/T-newsgroups/810',\n 'data_sets/T-newsgroups/811',\n 'data_sets/T-newsgroups/812',\n 'data_sets/T-newsgroups/813',\n 'data_sets/T-newsgroups/814',\n 'data_sets/T-newsgroups/815',\n 'data_sets/T-newsgroups/816',\n 'data_sets/T-newsgroups/817',\n 'data_sets/T-newsgroups/818',\n 'data_sets/T-newsgroups/819',\n 'data_sets/T-newsgroups/820',\n 'data_sets/T-newsgroups/821',\n 'data_sets/T-newsgroups/822',\n 'data_sets/T-newsgroups/823',\n 'data_sets/T-newsgroups/824',\n 'data_sets/T-newsgroups/825',\n 'data_sets/T-newsgroups/826',\n 'data_sets/T-newsgroups/827',\n 'data_sets/T-newsgroups/828',\n 'data_sets/T-newsgroups/829',\n 'data_sets/T-newsgroups/830',\n 'data_sets/T-newsgroups/831',\n 'data_sets/T-newsgroups/832',\n 'data_sets/T-newsgroups/833',\n 'data_sets/T-newsgroups/834',\n 'data_sets/T-newsgroups/835',\n 'data_sets/T-newsgroups/836',\n 'data_sets/T-newsgroups/837',\n 'data_sets/T-newsgroups/838',\n 'data_sets/T-newsgroups/839',\n 'data_sets/T-newsgroups/840',\n 'data_sets/T-newsgroups/841',\n 'data_sets/T-newsgroups/842',\n 'data_sets/T-newsgroups/843',\n 'data_sets/T-newsgroups/844',\n 'data_sets/T-newsgroups/845',\n 'data_sets/T-newsgroups/846',\n 'data_sets/T-newsgroups/847',\n 'data_sets/T-newsgroups/848',\n 'data_sets/T-newsgroups/849',\n 'data_sets/T-newsgroups/850',\n 'data_sets/T-newsgroups/851',\n 'data_sets/T-newsgroups/852',\n 'data_sets/T-newsgroups/853',\n 'data_sets/T-newsgroups/854',\n 'data_sets/T-newsgroups/855',\n 'data_sets/T-newsgroups/856',\n 'data_sets/T-newsgroups/857',\n 'data_sets/T-newsgroups/858',\n 'data_sets/T-newsgroups/859',\n 'data_sets/T-newsgroups/860',\n 'data_sets/T-newsgroups/861',\n 'data_sets/T-newsgroups/862',\n 'data_sets/T-newsgroups/863',\n 'data_sets/T-newsgroups/864',\n 'data_sets/T-newsgroups/865',\n 'data_sets/T-newsgroups/866',\n 'data_sets/T-newsgroups/867',\n 'data_sets/T-newsgroups/868',\n 'data_sets/T-newsgroups/869',\n 'data_sets/T-newsgroups/870',\n 'data_sets/T-newsgroups/871',\n 'data_sets/T-newsgroups/872',\n 'data_sets/T-newsgroups/873',\n 'data_sets/T-newsgroups/874',\n 'data_sets/T-newsgroups/875',\n 'data_sets/T-newsgroups/876',\n 'data_sets/T-newsgroups/877',\n 'data_sets/T-newsgroups/878',\n 'data_sets/T-newsgroups/879',\n 'data_sets/T-newsgroups/880',\n 'data_sets/T-newsgroups/881',\n 'data_sets/T-newsgroups/882',\n 'data_sets/T-newsgroups/883',\n 'data_sets/T-newsgroups/884',\n 'data_sets/T-newsgroups/885',\n 'data_sets/T-newsgroups/886',\n 'data_sets/T-newsgroups/887',\n 'data_sets/T-newsgroups/888',\n 'data_sets/T-newsgroups/889',\n 'data_sets/T-newsgroups/890',\n 'data_sets/T-newsgroups/891',\n 'data_sets/T-newsgroups/892',\n 'data_sets/T-newsgroups/893',\n 'data_sets/T-newsgroups/894',\n 'data_sets/T-newsgroups/895',\n 'data_sets/T-newsgroups/896',\n 'data_sets/T-newsgroups/897',\n 'data_sets/T-newsgroups/898',\n 'data_sets/T-newsgroups/899',\n 'data_sets/T-newsgroups/900',\n 'data_sets/T-newsgroups/901',\n 'data_sets/T-newsgroups/902',\n 'data_sets/T-newsgroups/903',\n 'data_sets/T-newsgroups/904',\n 'data_sets/T-newsgroups/905',\n 'data_sets/T-newsgroups/906',\n 'data_sets/T-newsgroups/907',\n 'data_sets/T-newsgroups/908',\n 'data_sets/T-newsgroups/909',\n 'data_sets/T-newsgroups/910',\n 'data_sets/T-newsgroups/911',\n 'data_sets/T-newsgroups/912',\n 'data_sets/T-newsgroups/913',\n 'data_sets/T-newsgroups/914',\n 'data_sets/T-newsgroups/915',\n 'data_sets/T-newsgroups/916',\n 'data_sets/T-newsgroups/917',\n 'data_sets/T-newsgroups/918',\n 'data_sets/T-newsgroups/919',\n 'data_sets/T-newsgroups/920',\n 'data_sets/T-newsgroups/921',\n 'data_sets/T-newsgroups/922',\n 'data_sets/T-newsgroups/923',\n 'data_sets/T-newsgroups/924',\n 'data_sets/T-newsgroups/925',\n 'data_sets/T-newsgroups/926',\n 'data_sets/T-newsgroups/927',\n 'data_sets/T-newsgroups/928',\n 'data_sets/T-newsgroups/929',\n 'data_sets/T-newsgroups/930',\n 'data_sets/T-newsgroups/931',\n 'data_sets/T-newsgroups/932',\n 'data_sets/T-newsgroups/933',\n 'data_sets/T-newsgroups/934',\n 'data_sets/T-newsgroups/935',\n 'data_sets/T-newsgroups/936',\n 'data_sets/T-newsgroups/937',\n 'data_sets/T-newsgroups/938',\n 'data_sets/T-newsgroups/939',\n 'data_sets/T-newsgroups/940',\n 'data_sets/T-newsgroups/941',\n 'data_sets/T-newsgroups/942',\n 'data_sets/T-newsgroups/943',\n 'data_sets/T-newsgroups/944',\n 'data_sets/T-newsgroups/945',\n 'data_sets/T-newsgroups/946',\n 'data_sets/T-newsgroups/947',\n 'data_sets/T-newsgroups/948',\n 'data_sets/T-newsgroups/949',\n 'data_sets/T-newsgroups/950',\n 'data_sets/T-newsgroups/951',\n 'data_sets/T-newsgroups/952',\n 'data_sets/T-newsgroups/953',\n 'data_sets/T-newsgroups/954',\n 'data_sets/T-newsgroups/955',\n 'data_sets/T-newsgroups/956',\n 'data_sets/T-newsgroups/957',\n 'data_sets/T-newsgroups/958',\n 'data_sets/T-newsgroups/959',\n 'data_sets/T-newsgroups/960',\n 'data_sets/T-newsgroups/961',\n 'data_sets/T-newsgroups/962',\n 'data_sets/T-newsgroups/963',\n 'data_sets/T-newsgroups/964',\n 'data_sets/T-newsgroups/965',\n 'data_sets/T-newsgroups/966',\n 'data_sets/T-newsgroups/967',\n 'data_sets/T-newsgroups/968',\n 'data_sets/T-newsgroups/969',\n 'data_sets/T-newsgroups/970',\n 'data_sets/T-newsgroups/971',\n 'data_sets/T-newsgroups/972',\n 'data_sets/T-newsgroups/973',\n 'data_sets/T-newsgroups/974',\n 'data_sets/T-newsgroups/975',\n 'data_sets/T-newsgroups/976',\n 'data_sets/T-newsgroups/977',\n 'data_sets/T-newsgroups/978',\n 'data_sets/T-newsgroups/979',\n 'data_sets/T-newsgroups/980',\n 'data_sets/T-newsgroups/981',\n 'data_sets/T-newsgroups/982',\n 'data_sets/T-newsgroups/983',\n 'data_sets/T-newsgroups/984',\n 'data_sets/T-newsgroups/985',\n 'data_sets/T-newsgroups/986',\n 'data_sets/T-newsgroups/987',\n 'data_sets/T-newsgroups/988',\n 'data_sets/T-newsgroups/989',\n 'data_sets/T-newsgroups/990',\n 'data_sets/T-newsgroups/991',\n 'data_sets/T-newsgroups/992',\n 'data_sets/T-newsgroups/993',\n 'data_sets/T-newsgroups/994',\n 'data_sets/T-newsgroups/995',\n 'data_sets/T-newsgroups/996',\n 'data_sets/T-newsgroups/997',\n 'data_sets/T-newsgroups/998',\n 'data_sets/T-newsgroups/999',\n ...]"
     },
     "metadata": {},
     "output_type": "execute_result",
     "execution_count": 23
    }
   ],
   "source": [
    "rel_path = \"data_sets/T-newsgroups/\"\n",
    "documents = [os.path.join(rel_path, d) for d in sorted(os.listdir(rel_path), key=int)]"
   ],
   "metadata": {
    "collapsed": false,
    "pycharm": {
     "name": "#%%\n",
     "is_executing": false
    }
   }
  },
  {
   "cell_type": "markdown",
   "source": [
    "Tokenizzo tutte le parole dei documenti tramite il LemmaTokenizer eliminando le stopwords"
   ],
   "metadata": {
    "collapsed": false,
    "pycharm": {
     "name": "#%% md\n",
     "is_executing": false
    }
   }
  },
  {
   "cell_type": "code",
   "execution_count": 30,
   "outputs": [
    {
     "data": {
      "text/plain": "<4000x40684 sparse matrix of type '<class 'numpy.float64'>'\n\twith 357446 stored elements in Compressed Sparse Row format>"
     },
     "metadata": {},
     "output_type": "execute_result",
     "execution_count": 30
    }
   ],
   "source": [
    "stopwords = sw.words('english') + ['could', 'might', 'must', 'need', 'would']\n",
    "lemmaTokenizer = LemmaTokenizer()\n",
    "vectorizer = TfidfVectorizer(input=\"filename\",tokenizer=lemmaTokenizer, stop_words=stopwords)\n",
    "tfidf_X = vectorizer.fit_transform(documents)\n",
    "tfidf_X"
   ],
   "metadata": {
    "collapsed": false,
    "pycharm": {
     "name": "#%%\n",
     "is_executing": false
    }
   }
  }
 ],
 "metadata": {
  "kernelspec": {
   "display_name": "Python 3",
   "language": "python",
   "name": "python3"
  },
  "language_info": {
   "codemirror_mode": {
    "name": "ipython",
    "version": 2
   },
   "file_extension": ".py",
   "mimetype": "text/x-python",
   "name": "python",
   "nbconvert_exporter": "python",
   "pygments_lexer": "ipython2",
   "version": "2.7.6"
  },
  "pycharm": {
   "stem_cell": {
    "cell_type": "raw",
    "source": [],
    "metadata": {
     "collapsed": false
    }
   }
  }
 },
 "nbformat": 4,
 "nbformat_minor": 0
}